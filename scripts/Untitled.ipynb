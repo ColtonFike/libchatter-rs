{
 "cells": [
  {
   "cell_type": "code",
   "execution_count": 29,
   "metadata": {},
   "outputs": [],
   "source": [
    "# Build a ping percentile plot\n",
    "\n",
    "import matplotlib.pyplot as plt\n",
    "from numpy import percentile\n",
    "from csv import reader\n",
    "import math"
   ]
  },
  {
   "cell_type": "code",
   "execution_count": 30,
   "metadata": {},
   "outputs": [],
   "source": [
    "pings = []\n",
    "\n",
    "with open(\"ping.csv\") as f:\n",
    "    rdr = reader(f)\n",
    "    for row in rdr:\n",
    "        pings.append(int(row[0]))"
   ]
  },
  {
   "cell_type": "code",
   "execution_count": 34,
   "metadata": {},
   "outputs": [
    {
     "data": {
      "image/png": "[encoded data removed]",
      "text/plain": [
       "<Figure size 432x288 with 1 Axes>"
      ]
     },
     "metadata": {
      "needs_background": "light"
     },
     "output_type": "display_data"
    }
   ],
   "source": [
    "points = [1,10,50,90,95,99,99.1,99.9,99.99,99.999,99.9999,99.99999]\n",
    "log_points = [math.log(i) for i in points]\n",
    "\n",
    "pings_percentile = percentile(pings, points)\n",
    "\n",
    "plt.rc('text',usetex=True)\n",
    "plt.plot(points, pings_percentile, label=\"Ping Percentile ($m=10^3$, $c=10^6$)\", linestyle='--', marker='o')\n",
    "plt.legend()\n",
    "# plt.xticks(log_points)\n",
    "plt.savefig(\"Ping-sample.pdf\")"
   ]
  }
 ],
 "metadata": {
  "kernelspec": {
   "display_name": "Python 3",
   "language": "python",
   "name": "python3"
  },
  "language_info": {
   "codemirror_mode": {
    "name": "ipython",
    "version": 3
   },
   "file_extension": ".py",
   "mimetype": "text/x-python",
   "name": "python",
   "nbconvert_exporter": "python",
   "pygments_lexer": "ipython3",
   "version": "3.9.1"
  }
 },
 "nbformat": 4,
 "nbformat_minor": 4
}
